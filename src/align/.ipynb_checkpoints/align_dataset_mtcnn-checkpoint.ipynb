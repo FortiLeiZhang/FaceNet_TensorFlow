{
 "cells": [
  {
   "cell_type": "code",
   "execution_count": 1,
   "metadata": {},
   "outputs": [],
   "source": [
    "from __future__ import absolute_import\n",
    "from __future__ import division\n",
    "from __future__ import print_function\n",
    "\n",
    "from scipy import misc\n",
    "import os\n",
    "import sys\n",
    "import argparse\n",
    "import tensorflow as tf\n",
    "import numpy as np\n",
    "import facenet\n",
    "import align.detect_face\n",
    "import align.detect_face2\n",
    "import random\n",
    "from time import sleep\n",
    "from six import string_types, iteritems"
   ]
  },
  {
   "cell_type": "code",
   "execution_count": 2,
   "metadata": {},
   "outputs": [],
   "source": [
    "# data_dict = np.load('/home/lzhang/facenet/source/src/align/det3.npy', encoding='latin1').item()\n",
    "# for op_name in data_dict:\n",
    "#     print(op_name)\n",
    "#     with tf.variable_scope(op_name, reuse=True):\n",
    "#         for param_name, data in iteritems(data_dict[op_name]):\n",
    "#             print(param_name, ':', data.shape)"
   ]
  },
  {
   "cell_type": "code",
   "execution_count": null,
   "metadata": {},
   "outputs": [],
   "source": []
  },
  {
   "cell_type": "code",
   "execution_count": 3,
   "metadata": {},
   "outputs": [],
   "source": [
    "# with tf.Graph().as_default():\n",
    "#     sess = tf.Session(config=tf.ConfigProto(log_device_placement=False))\n",
    "#     with sess.as_default():\n",
    "#         try:\n",
    "#             pnet, rnet, onet = align.detect_face.create_mtcnn(sess, None)\n",
    "#         except KeyError:\n",
    "#             for n in tf.global_variables():\n",
    "#                 print(n)"
   ]
  },
  {
   "cell_type": "code",
   "execution_count": 4,
   "metadata": {},
   "outputs": [
    {
     "name": "stderr",
     "output_type": "stream",
     "text": [
      "/home/lzhang/anaconda3/envs/tensorflow3/lib/python3.6/site-packages/ipykernel_launcher.py:3: DeprecationWarning: `imread` is deprecated!\n",
      "`imread` is deprecated in SciPy 1.0.0, and will be removed in 1.2.0.\n",
      "Use ``imageio.imread`` instead.\n",
      "  This is separate from the ipykernel package so we can avoid doing imports until\n"
     ]
    },
    {
     "name": "stdout",
     "output_type": "stream",
     "text": [
      "(250, 250, 3)\n",
      "0.0\n",
      "0.0\n"
     ]
    }
   ],
   "source": [
    "from scipy import misc\n",
    "\n",
    "img = misc.imread('/home/lzhang/tmp/0000045/001.jpg')\n",
    "print(img.shape)\n",
    "\n",
    "minsize = 20\n",
    "threshold = [0.6, 0.7, 0.7]\n",
    "\n",
    "\n",
    "factor = 0.709\n",
    "    \n",
    "h, w = img.shape[0], img.shape[1]\n",
    "minl = np.amin([h, w])\n",
    "m = 12.0 / 20\n",
    "minl = minl * m\n",
    "\n",
    "with tf.Graph().as_default():\n",
    "    sess = tf.Session(config=tf.ConfigProto(log_device_placement=False))\n",
    "    with sess.as_default():\n",
    "        pnet, rnet, onet = align.detect_face.create_mtcnn(sess, None)\n",
    "#         with open('/home/lzhang/tensorflow_debug.txt') as f:\n",
    "#             tensor_ops = tf.get_default_graph().get_operations()\n",
    "#             for op in tensor_ops:\n",
    "#                 f.write(str(op))\n",
    "            \n",
    "bounding_boxes = align.detect_face.detect_face(img, minsize, pnet, rnet, onet, threshold, factor)\n",
    "\n",
    "with tf.Graph().as_default():\n",
    "    sess = tf.Session(config=tf.ConfigProto(log_device_placement=False))\n",
    "    with sess.as_default():\n",
    "        pnet, rnet, onet = align.detect_face2.create_mtcnn(sess, None)\n",
    "            \n",
    "bounding_boxes2 = align.detect_face2.detect_face(img, minsize, pnet, rnet, onet, threshold, factor)\n",
    "# print(np.sum(np.abs(bounding_boxes - bounding_boxes2)))\n",
    "\n",
    "for n in range(len(bounding_boxes)):\n",
    "    print(np.sum(np.abs(bounding_boxes[n] - bounding_boxes2[n])))"
   ]
  },
  {
   "cell_type": "code",
   "execution_count": null,
   "metadata": {},
   "outputs": [],
   "source": []
  },
  {
   "cell_type": "code",
   "execution_count": null,
   "metadata": {},
   "outputs": [],
   "source": []
  },
  {
   "cell_type": "code",
   "execution_count": null,
   "metadata": {},
   "outputs": [],
   "source": []
  }
 ],
 "metadata": {
  "kernelspec": {
   "display_name": "Python (tensorflow3)",
   "language": "python",
   "name": "tensorflow3"
  },
  "language_info": {
   "codemirror_mode": {
    "name": "ipython",
    "version": 3
   },
   "file_extension": ".py",
   "mimetype": "text/x-python",
   "name": "python",
   "nbconvert_exporter": "python",
   "pygments_lexer": "ipython3",
   "version": "3.6.6"
  }
 },
 "nbformat": 4,
 "nbformat_minor": 2
}
